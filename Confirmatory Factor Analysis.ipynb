{
 "cells": [
  {
   "cell_type": "markdown",
   "metadata": {},
   "source": [
    "## Importação do banco de dados"
   ]
  },
  {
   "cell_type": "code",
   "execution_count": 1,
   "metadata": {
    "vscode": {
     "languageId": "r"
    }
   },
   "outputs": [
    {
     "name": "stderr",
     "output_type": "stream",
     "text": [
      "Loading required package: readxl\n",
      "\n",
      "Warning message:\n",
      "\"package 'readxl' was built under R version 3.6.3\"\n"
     ]
    },
    {
     "data": {
      "text/html": [
       "<table class=\"dataframe\">\n",
       "<caption>A tibble: 6 × 21</caption>\n",
       "<thead>\n",
       "\t<tr><th scope=col>FV</th><th scope=col>q13_memoria_imediata</th><th scope=col>memoria_tardia</th><th scope=col>Total_cogniçao</th><th scope=col>Total_depressão</th><th scope=col>Qualidade_do_sono</th><th scope=col>Pontuação_sono</th><th scope=col>Total_psicologico</th><th scope=col>Defict_visão</th><th scope=col>Defict_audição</th><th scope=col>...</th><th scope=col>Dinamometria</th><th scope=col>Classificação_imc</th><th scope=col>Pontuação_imc</th><th scope=col>Total_vitalidade</th><th scope=col>Caminhada_melhor_tempo</th><th scope=col>Total_mobilidade</th><th scope=col>Total_locomotor</th><th scope=col>Total_capacidade_intrinseca</th><th scope=col>classificao_capacidade_intrinseca</th><th scope=col>MCR_2</th></tr>\n",
       "\t<tr><th scope=col>&lt;dbl&gt;</th><th scope=col>&lt;dbl&gt;</th><th scope=col>&lt;dbl&gt;</th><th scope=col>&lt;dbl&gt;</th><th scope=col>&lt;dbl&gt;</th><th scope=col>&lt;chr&gt;</th><th scope=col>&lt;dbl&gt;</th><th scope=col>&lt;dbl&gt;</th><th scope=col>&lt;chr&gt;</th><th scope=col>&lt;chr&gt;</th><th scope=col>...</th><th scope=col>&lt;dbl&gt;</th><th scope=col>&lt;chr&gt;</th><th scope=col>&lt;dbl&gt;</th><th scope=col>&lt;dbl&gt;</th><th scope=col>&lt;dbl&gt;</th><th scope=col>&lt;dbl&gt;</th><th scope=col>&lt;dbl&gt;</th><th scope=col>&lt;dbl&gt;</th><th scope=col>&lt;chr&gt;</th><th scope=col>&lt;dbl&gt;</th></tr>\n",
       "</thead>\n",
       "<tbody>\n",
       "\t<tr><td>15</td><td>6</td><td>4</td><td>3</td><td>1</td><td>Boa    </td><td>2</td><td>3</td><td>Sim</td><td>Nao</td><td>...</td><td>24</td><td>peso normal     </td><td>2</td><td>3</td><td>3.09</td><td>30</td><td>2</td><td>12</td><td>acima da média </td><td>8</td></tr>\n",
       "\t<tr><td> 8</td><td>3</td><td>2</td><td>0</td><td>2</td><td>Boa    </td><td>2</td><td>3</td><td>Sim</td><td>Nao</td><td>...</td><td>16</td><td>peso normal     </td><td>2</td><td>2</td><td>5.13</td><td>20</td><td>0</td><td> 6</td><td>abaixo da média</td><td>5</td></tr>\n",
       "\t<tr><td> 9</td><td>4</td><td>2</td><td>2</td><td>7</td><td>Boa    </td><td>2</td><td>2</td><td>Sim</td><td>Nao</td><td>...</td><td>13</td><td>sobrepeso       </td><td>1</td><td>1</td><td>4.85</td><td>25</td><td>0</td><td> 6</td><td>abaixo da média</td><td>4</td></tr>\n",
       "\t<tr><td>14</td><td>3</td><td>3</td><td>2</td><td>0</td><td>Regular</td><td>1</td><td>2</td><td>Sim</td><td>Nao</td><td>...</td><td>27</td><td>obesidade grau 1</td><td>0</td><td>1</td><td>3.40</td><td>21</td><td>1</td><td> 7</td><td>acima da média </td><td>8</td></tr>\n",
       "\t<tr><td> 5</td><td>2</td><td>2</td><td>0</td><td>4</td><td>Boa    </td><td>2</td><td>2</td><td>Nao</td><td>Nao</td><td>...</td><td>13</td><td>peso normal     </td><td>2</td><td>2</td><td>4.18</td><td>27</td><td>2</td><td> 8</td><td>acima da média </td><td>8</td></tr>\n",
       "\t<tr><td>17</td><td>6</td><td>5</td><td>3</td><td>1</td><td>Regular</td><td>1</td><td>2</td><td>Sim</td><td>Nao</td><td>...</td><td>32</td><td>obesidade grau 1</td><td>0</td><td>1</td><td>3.05</td><td>31</td><td>2</td><td> 9</td><td>acima da média </td><td>8</td></tr>\n",
       "</tbody>\n",
       "</table>\n"
      ],
      "text/latex": [
       "A tibble: 6 × 21\n",
       "\\begin{tabular}{lllllllllllllllllllll}\n",
       " FV & q13\\_memoria\\_imediata & memoria\\_tardia & Total\\_cogniçao & Total\\_depressão & Qualidade\\_do\\_sono & Pontuação\\_sono & Total\\_psicologico & Defict\\_visão & Defict\\_audição & ... & Dinamometria & Classificação\\_imc & Pontuação\\_imc & Total\\_vitalidade & Caminhada\\_melhor\\_tempo & Total\\_mobilidade & Total\\_locomotor & Total\\_capacidade\\_intrinseca & classificao\\_capacidade\\_intrinseca & MCR\\_2\\\\\n",
       " <dbl> & <dbl> & <dbl> & <dbl> & <dbl> & <chr> & <dbl> & <dbl> & <chr> & <chr> & ... & <dbl> & <chr> & <dbl> & <dbl> & <dbl> & <dbl> & <dbl> & <dbl> & <chr> & <dbl>\\\\\n",
       "\\hline\n",
       "\t 15 & 6 & 4 & 3 & 1 & Boa     & 2 & 3 & Sim & Nao & ... & 24 & peso normal      & 2 & 3 & 3.09 & 30 & 2 & 12 & acima da média  & 8\\\\\n",
       "\t  8 & 3 & 2 & 0 & 2 & Boa     & 2 & 3 & Sim & Nao & ... & 16 & peso normal      & 2 & 2 & 5.13 & 20 & 0 &  6 & abaixo da média & 5\\\\\n",
       "\t  9 & 4 & 2 & 2 & 7 & Boa     & 2 & 2 & Sim & Nao & ... & 13 & sobrepeso        & 1 & 1 & 4.85 & 25 & 0 &  6 & abaixo da média & 4\\\\\n",
       "\t 14 & 3 & 3 & 2 & 0 & Regular & 1 & 2 & Sim & Nao & ... & 27 & obesidade grau 1 & 0 & 1 & 3.40 & 21 & 1 &  7 & acima da média  & 8\\\\\n",
       "\t  5 & 2 & 2 & 0 & 4 & Boa     & 2 & 2 & Nao & Nao & ... & 13 & peso normal      & 2 & 2 & 4.18 & 27 & 2 &  8 & acima da média  & 8\\\\\n",
       "\t 17 & 6 & 5 & 3 & 1 & Regular & 1 & 2 & Sim & Nao & ... & 32 & obesidade grau 1 & 0 & 1 & 3.05 & 31 & 2 &  9 & acima da média  & 8\\\\\n",
       "\\end{tabular}\n"
      ],
      "text/markdown": [
       "\n",
       "A tibble: 6 × 21\n",
       "\n",
       "| FV &lt;dbl&gt; | q13_memoria_imediata &lt;dbl&gt; | memoria_tardia &lt;dbl&gt; | Total_cogniçao &lt;dbl&gt; | Total_depressão &lt;dbl&gt; | Qualidade_do_sono &lt;chr&gt; | Pontuação_sono &lt;dbl&gt; | Total_psicologico &lt;dbl&gt; | Defict_visão &lt;chr&gt; | Defict_audição &lt;chr&gt; | ... ... | Dinamometria &lt;dbl&gt; | Classificação_imc &lt;chr&gt; | Pontuação_imc &lt;dbl&gt; | Total_vitalidade &lt;dbl&gt; | Caminhada_melhor_tempo &lt;dbl&gt; | Total_mobilidade &lt;dbl&gt; | Total_locomotor &lt;dbl&gt; | Total_capacidade_intrinseca &lt;dbl&gt; | classificao_capacidade_intrinseca &lt;chr&gt; | MCR_2 &lt;dbl&gt; |\n",
       "|---|---|---|---|---|---|---|---|---|---|---|---|---|---|---|---|---|---|---|---|---|\n",
       "| 15 | 6 | 4 | 3 | 1 | Boa     | 2 | 3 | Sim | Nao | ... | 24 | peso normal      | 2 | 3 | 3.09 | 30 | 2 | 12 | acima da média  | 8 |\n",
       "|  8 | 3 | 2 | 0 | 2 | Boa     | 2 | 3 | Sim | Nao | ... | 16 | peso normal      | 2 | 2 | 5.13 | 20 | 0 |  6 | abaixo da média | 5 |\n",
       "|  9 | 4 | 2 | 2 | 7 | Boa     | 2 | 2 | Sim | Nao | ... | 13 | sobrepeso        | 1 | 1 | 4.85 | 25 | 0 |  6 | abaixo da média | 4 |\n",
       "| 14 | 3 | 3 | 2 | 0 | Regular | 1 | 2 | Sim | Nao | ... | 27 | obesidade grau 1 | 0 | 1 | 3.40 | 21 | 1 |  7 | acima da média  | 8 |\n",
       "|  5 | 2 | 2 | 0 | 4 | Boa     | 2 | 2 | Nao | Nao | ... | 13 | peso normal      | 2 | 2 | 4.18 | 27 | 2 |  8 | acima da média  | 8 |\n",
       "| 17 | 6 | 5 | 3 | 1 | Regular | 1 | 2 | Sim | Nao | ... | 32 | obesidade grau 1 | 0 | 1 | 3.05 | 31 | 2 |  9 | acima da média  | 8 |\n",
       "\n"
      ],
      "text/plain": [
       "  FV q13_memoria_imediata memoria_tardia Total_cogniçao Total_depressão\n",
       "1 15 6                    4              3              1              \n",
       "2  8 3                    2              0              2              \n",
       "3  9 4                    2              2              7              \n",
       "4 14 3                    3              2              0              \n",
       "5  5 2                    2              0              4              \n",
       "6 17 6                    5              3              1              \n",
       "  Qualidade_do_sono Pontuação_sono Total_psicologico Defict_visão\n",
       "1 Boa               2              3                 Sim         \n",
       "2 Boa               2              3                 Sim         \n",
       "3 Boa               2              2                 Sim         \n",
       "4 Regular           1              2                 Sim         \n",
       "5 Boa               2              2                 Nao         \n",
       "6 Regular           1              2                 Sim         \n",
       "  Defict_audição ... Dinamometria Classificação_imc Pontuação_imc\n",
       "1 Nao            ... 24           peso normal       2            \n",
       "2 Nao            ... 16           peso normal       2            \n",
       "3 Nao            ... 13           sobrepeso         1            \n",
       "4 Nao            ... 27           obesidade grau 1  0            \n",
       "5 Nao            ... 13           peso normal       2            \n",
       "6 Nao            ... 32           obesidade grau 1  0            \n",
       "  Total_vitalidade Caminhada_melhor_tempo Total_mobilidade Total_locomotor\n",
       "1 3                3.09                   30               2              \n",
       "2 2                5.13                   20               0              \n",
       "3 1                4.85                   25               0              \n",
       "4 1                3.40                   21               1              \n",
       "5 2                4.18                   27               2              \n",
       "6 1                3.05                   31               2              \n",
       "  Total_capacidade_intrinseca classificao_capacidade_intrinseca MCR_2\n",
       "1 12                          acima da média                    8    \n",
       "2  6                          abaixo da média                   5    \n",
       "3  6                          abaixo da média                   4    \n",
       "4  7                          acima da média                    8    \n",
       "5  8                          acima da média                    8    \n",
       "6  9                          acima da média                    8    "
      ]
     },
     "metadata": {},
     "output_type": "display_data"
    },
    {
     "data": {
      "text/html": [
       "<style>\n",
       ".list-inline {list-style: none; margin:0; padding: 0}\n",
       ".list-inline>li {display: inline-block}\n",
       ".list-inline>li:not(:last-child)::after {content: \"\\00b7\"; padding: 0 .5ex}\n",
       "</style>\n",
       "<ol class=list-inline><li>7886</li><li>21</li></ol>\n"
      ],
      "text/latex": [
       "\\begin{enumerate*}\n",
       "\\item 7886\n",
       "\\item 21\n",
       "\\end{enumerate*}\n"
      ],
      "text/markdown": [
       "1. 7886\n",
       "2. 21\n",
       "\n",
       "\n"
      ],
      "text/plain": [
       "[1] 7886   21"
      ]
     },
     "metadata": {},
     "output_type": "display_data"
    },
    {
     "name": "stdout",
     "output_type": "stream",
     "text": [
      "tibble [7,886 x 21] (S3: tbl_df/tbl/data.frame)\n",
      " $ FV                               : num [1:7886] 15 8 9 14 5 17 17 7 19 17 ...\n",
      " $ q13_memoria_imediata             : num [1:7886] 6 3 4 3 2 6 7 5 6 6 ...\n",
      " $ memoria_tardia                   : num [1:7886] 4 2 2 3 2 5 6 4 4 4 ...\n",
      " $ Total_cogniçao                   : num [1:7886] 3 0 2 2 0 3 3 2 3 3 ...\n",
      " $ Total_depressão                  : num [1:7886] 1 2 7 0 4 1 7 4 1 7 ...\n",
      " $ Qualidade_do_sono                : chr [1:7886] \"Boa\" \"Boa\" \"Boa\" \"Regular\" ...\n",
      " $ Pontuação_sono                   : num [1:7886] 2 2 2 1 2 1 1 1 1 1 ...\n",
      " $ Total_psicologico                : num [1:7886] 3 3 2 2 2 2 1 1 2 1 ...\n",
      " $ Defict_visão                     : chr [1:7886] \"Sim\" \"Sim\" \"Sim\" \"Sim\" ...\n",
      " $ Defict_audição                   : chr [1:7886] \"Nao\" \"Nao\" \"Nao\" \"Nao\" ...\n",
      " $ Total_sensorial                  : num [1:7886] 1 1 1 1 2 1 1 1 2 2 ...\n",
      " $ Dinamometria                     : num [1:7886] 24 16 13 27 13 32 19 13 40 14 ...\n",
      " $ Classificação_imc                : chr [1:7886] \"peso normal\" \"peso normal\" \"sobrepeso\" \"obesidade grau 1\" ...\n",
      " $ Pontuação_imc                    : num [1:7886] 2 2 1 0 2 0 0 0 1 0 ...\n",
      " $ Total_vitalidade                 : num [1:7886] 3 2 1 1 2 1 1 0 2 0 ...\n",
      " $ Caminhada_melhor_tempo           : num [1:7886] 3.09 5.13 4.85 3.4 4.18 3.05 7.04 4.04 2.08 2.7 ...\n",
      " $ Total_mobilidade                 : num [1:7886] 30 20 25 21 27 31 8 14 33 24 ...\n",
      " $ Total_locomotor                  : num [1:7886] 2 0 0 1 2 2 0 1 2 1 ...\n",
      " $ Total_capacidade_intrinseca      : num [1:7886] 12 6 6 7 8 9 6 5 11 7 ...\n",
      " $ classificao_capacidade_intrinseca: chr [1:7886] \"acima da média\" \"abaixo da média\" \"abaixo da média\" \"acima da média\" ...\n",
      " $ MCR_2                            : num [1:7886] 8 5 4 8 8 8 5 6 8 6 ...\n"
     ]
    }
   ],
   "source": [
    "#install.packages(\"readxl\")\n",
    "require(readxl)\n",
    "dados<- read_excel(\"Planilhabase_jessica_Capacidade intrisica e declinio cognitivo_motor_25.02.2022_atualizada.xlsx\",sheet = 2)\n",
    "head(dados)\n",
    "dim(dados) #7886 x 21 \n",
    "str(dados)"
   ]
  },
  {
   "cell_type": "code",
   "execution_count": 2,
   "metadata": {
    "vscode": {
     "languageId": "r"
    }
   },
   "outputs": [
    {
     "data": {
      "text/html": [
       "<table class=\"dataframe\">\n",
       "<caption>A tibble: 6 × 11</caption>\n",
       "<thead>\n",
       "\t<tr><th scope=col>FV</th><th scope=col>q13_memoria_imediata</th><th scope=col>memoria_tardia</th><th scope=col>Total_depressão</th><th scope=col>Pontuação_sono</th><th scope=col>Defict_visão</th><th scope=col>Defict_audição</th><th scope=col>Dinamometria</th><th scope=col>Pontuação_imc</th><th scope=col>Caminhada_melhor_tempo</th><th scope=col>Total_mobilidade</th></tr>\n",
       "\t<tr><th scope=col>&lt;dbl&gt;</th><th scope=col>&lt;dbl&gt;</th><th scope=col>&lt;dbl&gt;</th><th scope=col>&lt;dbl&gt;</th><th scope=col>&lt;dbl&gt;</th><th scope=col>&lt;chr&gt;</th><th scope=col>&lt;chr&gt;</th><th scope=col>&lt;dbl&gt;</th><th scope=col>&lt;dbl&gt;</th><th scope=col>&lt;dbl&gt;</th><th scope=col>&lt;dbl&gt;</th></tr>\n",
       "</thead>\n",
       "<tbody>\n",
       "\t<tr><td>15</td><td>6</td><td>4</td><td>1</td><td>2</td><td>Sim</td><td>Nao</td><td>24</td><td>2</td><td>3.09</td><td>30</td></tr>\n",
       "\t<tr><td> 8</td><td>3</td><td>2</td><td>2</td><td>2</td><td>Sim</td><td>Nao</td><td>16</td><td>2</td><td>5.13</td><td>20</td></tr>\n",
       "\t<tr><td> 9</td><td>4</td><td>2</td><td>7</td><td>2</td><td>Sim</td><td>Nao</td><td>13</td><td>1</td><td>4.85</td><td>25</td></tr>\n",
       "\t<tr><td>14</td><td>3</td><td>3</td><td>0</td><td>1</td><td>Sim</td><td>Nao</td><td>27</td><td>0</td><td>3.40</td><td>21</td></tr>\n",
       "\t<tr><td> 5</td><td>2</td><td>2</td><td>4</td><td>2</td><td>Nao</td><td>Nao</td><td>13</td><td>2</td><td>4.18</td><td>27</td></tr>\n",
       "\t<tr><td>17</td><td>6</td><td>5</td><td>1</td><td>1</td><td>Sim</td><td>Nao</td><td>32</td><td>0</td><td>3.05</td><td>31</td></tr>\n",
       "</tbody>\n",
       "</table>\n"
      ],
      "text/latex": [
       "A tibble: 6 × 11\n",
       "\\begin{tabular}{lllllllllll}\n",
       " FV & q13\\_memoria\\_imediata & memoria\\_tardia & Total\\_depressão & Pontuação\\_sono & Defict\\_visão & Defict\\_audição & Dinamometria & Pontuação\\_imc & Caminhada\\_melhor\\_tempo & Total\\_mobilidade\\\\\n",
       " <dbl> & <dbl> & <dbl> & <dbl> & <dbl> & <chr> & <chr> & <dbl> & <dbl> & <dbl> & <dbl>\\\\\n",
       "\\hline\n",
       "\t 15 & 6 & 4 & 1 & 2 & Sim & Nao & 24 & 2 & 3.09 & 30\\\\\n",
       "\t  8 & 3 & 2 & 2 & 2 & Sim & Nao & 16 & 2 & 5.13 & 20\\\\\n",
       "\t  9 & 4 & 2 & 7 & 2 & Sim & Nao & 13 & 1 & 4.85 & 25\\\\\n",
       "\t 14 & 3 & 3 & 0 & 1 & Sim & Nao & 27 & 0 & 3.40 & 21\\\\\n",
       "\t  5 & 2 & 2 & 4 & 2 & Nao & Nao & 13 & 2 & 4.18 & 27\\\\\n",
       "\t 17 & 6 & 5 & 1 & 1 & Sim & Nao & 32 & 0 & 3.05 & 31\\\\\n",
       "\\end{tabular}\n"
      ],
      "text/markdown": [
       "\n",
       "A tibble: 6 × 11\n",
       "\n",
       "| FV &lt;dbl&gt; | q13_memoria_imediata &lt;dbl&gt; | memoria_tardia &lt;dbl&gt; | Total_depressão &lt;dbl&gt; | Pontuação_sono &lt;dbl&gt; | Defict_visão &lt;chr&gt; | Defict_audição &lt;chr&gt; | Dinamometria &lt;dbl&gt; | Pontuação_imc &lt;dbl&gt; | Caminhada_melhor_tempo &lt;dbl&gt; | Total_mobilidade &lt;dbl&gt; |\n",
       "|---|---|---|---|---|---|---|---|---|---|---|\n",
       "| 15 | 6 | 4 | 1 | 2 | Sim | Nao | 24 | 2 | 3.09 | 30 |\n",
       "|  8 | 3 | 2 | 2 | 2 | Sim | Nao | 16 | 2 | 5.13 | 20 |\n",
       "|  9 | 4 | 2 | 7 | 2 | Sim | Nao | 13 | 1 | 4.85 | 25 |\n",
       "| 14 | 3 | 3 | 0 | 1 | Sim | Nao | 27 | 0 | 3.40 | 21 |\n",
       "|  5 | 2 | 2 | 4 | 2 | Nao | Nao | 13 | 2 | 4.18 | 27 |\n",
       "| 17 | 6 | 5 | 1 | 1 | Sim | Nao | 32 | 0 | 3.05 | 31 |\n",
       "\n"
      ],
      "text/plain": [
       "  FV q13_memoria_imediata memoria_tardia Total_depressão Pontuação_sono\n",
       "1 15 6                    4              1               2             \n",
       "2  8 3                    2              2               2             \n",
       "3  9 4                    2              7               2             \n",
       "4 14 3                    3              0               1             \n",
       "5  5 2                    2              4               2             \n",
       "6 17 6                    5              1               1             \n",
       "  Defict_visão Defict_audição Dinamometria Pontuação_imc Caminhada_melhor_tempo\n",
       "1 Sim          Nao            24           2             3.09                  \n",
       "2 Sim          Nao            16           2             5.13                  \n",
       "3 Sim          Nao            13           1             4.85                  \n",
       "4 Sim          Nao            27           0             3.40                  \n",
       "5 Nao          Nao            13           2             4.18                  \n",
       "6 Sim          Nao            32           0             3.05                  \n",
       "  Total_mobilidade\n",
       "1 30              \n",
       "2 20              \n",
       "3 25              \n",
       "4 21              \n",
       "5 27              \n",
       "6 31              "
      ]
     },
     "metadata": {},
     "output_type": "display_data"
    },
    {
     "name": "stdout",
     "output_type": "stream",
     "text": [
      "tibble [7,886 x 11] (S3: tbl_df/tbl/data.frame)\n",
      " $ FV                    : num [1:7886] 15 8 9 14 5 17 17 7 19 17 ...\n",
      " $ q13_memoria_imediata  : num [1:7886] 6 3 4 3 2 6 7 5 6 6 ...\n",
      " $ memoria_tardia        : num [1:7886] 4 2 2 3 2 5 6 4 4 4 ...\n",
      " $ Total_depressão       : num [1:7886] 1 2 7 0 4 1 7 4 1 7 ...\n",
      " $ Pontuação_sono        : num [1:7886] 2 2 2 1 2 1 1 1 1 1 ...\n",
      " $ Defict_visão          : chr [1:7886] \"Sim\" \"Sim\" \"Sim\" \"Sim\" ...\n",
      " $ Defict_audição        : chr [1:7886] \"Nao\" \"Nao\" \"Nao\" \"Nao\" ...\n",
      " $ Dinamometria          : num [1:7886] 24 16 13 27 13 32 19 13 40 14 ...\n",
      " $ Pontuação_imc         : num [1:7886] 2 2 1 0 2 0 0 0 1 0 ...\n",
      " $ Caminhada_melhor_tempo: num [1:7886] 3.09 5.13 4.85 3.4 4.18 3.05 7.04 4.04 2.08 2.7 ...\n",
      " $ Total_mobilidade      : num [1:7886] 30 20 25 21 27 31 8 14 33 24 ...\n"
     ]
    }
   ],
   "source": [
    "bd_CFA<- dados[,-c(4,6,8,11,13,15,18,19,20,21)]\n",
    "head(bd_CFA)\n",
    "str(bd_CFA)"
   ]
  },
  {
   "cell_type": "markdown",
   "metadata": {},
   "source": [
    "## Pré-processamento dos dados para o CFA"
   ]
  },
  {
   "cell_type": "code",
   "execution_count": 3,
   "metadata": {
    "vscode": {
     "languageId": "r"
    }
   },
   "outputs": [
    {
     "name": "stdout",
     "output_type": "stream",
     "text": [
      "tibble [7,886 x 11] (S3: tbl_df/tbl/data.frame)\n",
      " $ FV                    : num [1:7886] 15 8 9 14 5 17 17 7 19 17 ...\n",
      " $ q13_memoria_imediata  : num [1:7886] 6 3 4 3 2 6 7 5 6 6 ...\n",
      " $ memoria_tardia        : num [1:7886] 4 2 2 3 2 5 6 4 4 4 ...\n",
      " $ Total_depressão       : num [1:7886] 1 2 7 0 4 1 7 4 1 7 ...\n",
      " $ Pontuação_sono        : num [1:7886] 2 2 2 1 2 1 1 1 1 1 ...\n",
      " $ Defict_visão          : num [1:7886] 2 2 2 2 1 2 2 2 1 1 ...\n",
      " $ Defict_audição        : num [1:7886] 1 1 1 1 1 1 1 1 1 1 ...\n",
      " $ Dinamometria          : num [1:7886] 24 16 13 27 13 32 19 13 40 14 ...\n",
      " $ Pontuação_imc         : num [1:7886] 2 2 1 0 2 0 0 0 1 0 ...\n",
      " $ Caminhada_melhor_tempo: num [1:7886] 3.09 5.13 4.85 3.4 4.18 3.05 7.04 4.04 2.08 2.7 ...\n",
      " $ Total_mobilidade      : num [1:7886] 30 20 25 21 27 31 8 14 33 24 ...\n"
     ]
    }
   ],
   "source": [
    "#Transformando caracter em fator e fator em numérico para aplicação do CFA\n",
    "bd_CFA[,c(\"Defict_visão\",\"Defict_audição\")] <- lapply(bd_CFA[,c(\"Defict_visão\",\"Defict_audição\")], as.factor)\n",
    "bd_CFA[,c(\"Defict_visão\",\"Defict_audição\")] <- lapply(bd_CFA[,c(\"Defict_visão\",\"Defict_audição\")], as.numeric)\n",
    "str(bd_CFA)\n",
    "\n",
    "##########\n",
    "\n",
    "#bd_CFA2<- scale(dados) #Média 0 e variância 1\n",
    "#head(bd_CFA2) #Para solucionar problema de alta variância de algumas variáveis\n",
    "\n",
    "##########\n",
    "\n",
    "#One hot enconding\n",
    "#require(caret)\n",
    "#dummy_ <- dummyVars(\" ~ .\", data = bd_CFA) #Mais rápido do que one_hot() do pacote mltools\n",
    "#bd_CFA2 <- data.frame(predict(dummy_, newdata = bd_CFA))\n",
    "#head(bd_CFA2)\n",
    "#dim(bd_CFA2)\n",
    "#str(bd_CFA2)"
   ]
  },
  {
   "cell_type": "markdown",
   "metadata": {},
   "source": [
    "# Preparing variables to CFA"
   ]
  },
  {
   "cell_type": "code",
   "execution_count": 4,
   "metadata": {
    "vscode": {
     "languageId": "r"
    }
   },
   "outputs": [],
   "source": [
    "#Nomear corretamente os grupos de variáveis\n",
    "model_cfa<-'\n",
    "Cognitive=~FV+q13_memoria_imediata+memoria_tardia\n",
    "Psychological=~Total_depressão+Pontuação_sono\n",
    "Sensory=~Defict_visão+Defict_audição\n",
    "Vitality=~Dinamometria+Pontuação_imc\n",
    "Locomotor=~Caminhada_melhor_tempo+Total_mobilidade'\n",
    "#Intrisic capacity=~FV+q13_memoria_imediata+memoria_tardia+Total_depressão+Pontuação_sono+Defict_visão+Defict_audição+Dinamometria+Pontuação_imc+Caminhada_melhor_tempo+Total_mobilidade'"
   ]
  },
  {
   "cell_type": "markdown",
   "metadata": {},
   "source": [
    "# CFA"
   ]
  },
  {
   "cell_type": "code",
   "execution_count": 5,
   "metadata": {
    "vscode": {
     "languageId": "r"
    }
   },
   "outputs": [
    {
     "name": "stderr",
     "output_type": "stream",
     "text": [
      "Loading required package: lavaan\n",
      "\n",
      "This is lavaan 0.6-10\n",
      "lavaan is FREE software! Please report any bugs.\n",
      "\n",
      "Warning message in lav_data_full(data = data, group = group, cluster = cluster, :\n",
      "\"lavaan WARNING: some observed variances are (at least) a factor 1000 times larger than others; use varTable(fit) to investigate\"\n",
      "Warning message in lav_object_post_check(object):\n",
      "\"lavaan WARNING: some estimated lv variances are negative\"\n"
     ]
    },
    {
     "name": "stdout",
     "output_type": "stream",
     "text": [
      "lavaan 0.6-10 ended normally after 138 iterations\n",
      "\n",
      "  Estimator                                         ML\n",
      "  Optimization method                           NLMINB\n",
      "  Number of model parameters                        32\n",
      "                                                      \n",
      "                                                  Used       Total\n",
      "  Number of observations                          7625        7886\n",
      "                                                                  \n",
      "Model Test User Model:\n",
      "                                                      \n",
      "  Test statistic                               565.701\n",
      "  Degrees of freedom                                34\n",
      "  P-value (Chi-square)                           0.000\n",
      "\n",
      "Model Test Baseline Model:\n",
      "\n",
      "  Test statistic                             10857.950\n",
      "  Degrees of freedom                                55\n",
      "  P-value                                        0.000\n",
      "\n",
      "User Model versus Baseline Model:\n",
      "\n",
      "  Comparative Fit Index (CFI)                    0.951\n",
      "  Tucker-Lewis Index (TLI)                       0.920\n",
      "\n",
      "Loglikelihood and Information Criteria:\n",
      "\n",
      "  Loglikelihood user model (H0)            -152451.077\n",
      "  Loglikelihood unrestricted model (H1)    -152168.226\n",
      "                                                      \n",
      "  Akaike (AIC)                              304966.153\n",
      "  Bayesian (BIC)                            305188.207\n",
      "  Sample-size adjusted Bayesian (BIC)       305086.518\n",
      "\n",
      "Root Mean Square Error of Approximation:\n",
      "\n",
      "  RMSEA                                          0.045\n",
      "  90 Percent confidence interval - lower         0.042\n",
      "  90 Percent confidence interval - upper         0.049\n",
      "  P-value RMSEA <= 0.05                          0.990\n",
      "\n",
      "Standardized Root Mean Square Residual:\n",
      "\n",
      "  SRMR                                           0.037\n",
      "\n",
      "Parameter Estimates:\n",
      "\n",
      "  Standard errors                             Standard\n",
      "  Information                                 Expected\n",
      "  Information saturated (h1) model          Structured\n"
     ]
    },
    {
     "name": "stderr",
     "output_type": "stream",
     "text": [
      "Warning message in abbreviate(NAMES, minlength = W, strict = TRUE):\n",
      "\"abbreaviate usado com caracteres não-ASCII\"\n"
     ]
    },
    {
     "name": "stdout",
     "output_type": "stream",
     "text": [
      "\n",
      "Latent Variables:\n",
      "                   Estimate  Std.Err  z-value  P(>|z|) ci.lower ci.upper\n",
      "  Cognitive =~                                                          \n",
      "    FV                1.000                               1.000    1.000\n",
      "    q13_memori_mdt    0.659    0.017   37.885    0.000    0.625    0.693\n",
      "    memoria_tardia    0.723    0.019   38.381    0.000    0.686    0.760\n",
      "  Psychological =~                                                      \n",
      "    Total_depressã    1.000                               1.000    1.000\n",
      "    Pontuação_sono   -0.297    0.018  -16.435    0.000   -0.332   -0.261\n",
      "  Sensory =~                                                            \n",
      "    Defict_visão      1.000                               1.000    1.000\n",
      "    Defict_audição   -0.089    0.016   -5.592    0.000   -0.120   -0.058\n",
      "  Vitality =~                                                           \n",
      "    Dinamometria      1.000                               1.000    1.000\n",
      "    Pontuação_imc     0.023    0.002   10.011    0.000    0.018    0.027\n",
      "  Locomotor =~                                                          \n",
      "    Cmnhd_mlhr_tmp    1.000                               1.000    1.000\n",
      "    Total_mobilidd   -5.221    0.265  -19.723    0.000   -5.740   -4.702\n",
      "   Std.lv  Std.all\n",
      "                  \n",
      "    2.073    0.482\n",
      "    1.367    0.844\n",
      "    1.498    0.805\n",
      "                  \n",
      "    1.033    0.501\n",
      "   -0.306   -0.398\n",
      "                  \n",
      "       NA       NA\n",
      "       NA       NA\n",
      "                  \n",
      "       NA       NA\n",
      "       NA       NA\n",
      "                  \n",
      "    0.935    0.339\n",
      "   -4.884   -0.750\n",
      "\n",
      "Covariances:\n",
      "                   Estimate  Std.Err  z-value  P(>|z|) ci.lower ci.upper\n",
      "  Cognitive ~~                                                          \n",
      "    Psychological    -0.250    0.047   -5.333    0.000   -0.342   -0.158\n",
      "    Sensory           0.199    0.013   15.851    0.000    0.175    0.224\n",
      "    Vitality          3.893    0.270   14.441    0.000    3.364    4.421\n",
      "    Locomotor        -0.701    0.049  -14.358    0.000   -0.797   -0.606\n",
      "  Psychological ~~                                                      \n",
      "    Sensory           0.018    0.008    2.124    0.034    0.001    0.035\n",
      "    Vitality         -3.030    0.207  -14.620    0.000   -3.437   -2.624\n",
      "    Locomotor         0.667    0.043   15.623    0.000    0.584    0.751\n",
      "  Sensory ~~                                                            \n",
      "    Vitality         -0.180    0.046   -3.948    0.000   -0.270   -0.091\n",
      "    Locomotor        -0.023    0.006   -3.870    0.000   -0.035   -0.011\n",
      "  Vitality ~~                                                           \n",
      "    Locomotor        -4.711    0.263  -17.919    0.000   -5.226   -4.195\n",
      "   Std.lv  Std.all\n",
      "                  \n",
      "   -0.117   -0.117\n",
      "    0.635    0.635\n",
      "    1.129    1.129\n",
      "   -0.362   -0.362\n",
      "                  \n",
      "    0.115    0.115\n",
      "   -1.764   -1.764\n",
      "    0.691    0.691\n",
      "                  \n",
      "   -0.716   -0.716\n",
      "   -0.163   -0.163\n",
      "                  \n",
      "   -3.028   -3.028\n"
     ]
    },
    {
     "name": "stderr",
     "output_type": "stream",
     "text": [
      "Warning message in abbreviate(NAMES, minlength = W, strict = TRUE):\n",
      "\"abbreaviate usado com caracteres não-ASCII\"\n"
     ]
    },
    {
     "name": "stdout",
     "output_type": "stream",
     "text": [
      "\n",
      "Variances:\n",
      "                   Estimate  Std.Err  z-value  P(>|z|) ci.lower ci.upper\n",
      "   .FV               14.217    0.246   57.688    0.000   13.734   14.700\n",
      "   .q13_memori_mdt    0.754    0.034   21.908    0.000    0.686    0.821\n",
      "   .memoria_tardia    1.216    0.043   27.964    0.000    1.131    1.301\n",
      "   .Total_depressã    3.187    0.089   35.610    0.000    3.011    3.362\n",
      "   .Pontuação_sono    0.499    0.010   48.332    0.000    0.479    0.519\n",
      "   .Defict_visão      0.219    0.010   22.659    0.000    0.200    0.238\n",
      "   .Defict_audição    0.016    0.000   59.500    0.000    0.015    0.016\n",
      "   .Dinamometria    101.194    4.285   23.615    0.000   92.796  109.593\n",
      "   .Pontuação_imc     0.603    0.010   60.376    0.000    0.583    0.623\n",
      "   .Cmnhd_mlhr_tmp    6.745    0.117   57.731    0.000    6.516    6.974\n",
      "   .Total_mobilidd   18.531    1.169   15.853    0.000   16.240   20.822\n",
      "    Cognitive         4.299    0.211   20.349    0.000    3.885    4.713\n",
      "    Psychological     1.067    0.086   12.377    0.000    0.898    1.235\n",
      "    Sensory          -0.023    0.009   -2.581    0.010   -0.040   -0.006\n",
      "    Vitality         -2.767    3.941   -0.702    0.483  -10.491    4.957\n",
      "    Locomotor         0.875    0.071   12.356    0.000    0.736    1.014\n",
      "   Std.lv  Std.all\n",
      "   14.217    0.768\n",
      "    0.754    0.288\n",
      "    1.216    0.351\n",
      "    3.187    0.749\n",
      "    0.499    0.842\n",
      "    0.219    1.116\n",
      "    0.016    1.012\n",
      "  101.194    1.028\n",
      "    0.603    1.002\n",
      "    6.745    0.885\n",
      "   18.531    0.437\n",
      "    1.000    1.000\n",
      "    1.000    1.000\n",
      "       NA       NA\n",
      "       NA       NA\n",
      "    1.000    1.000\n",
      "\n"
     ]
    }
   ],
   "source": [
    "#install.packages(\"lavaan\") #Latent Variable Analysis\n",
    "require(lavaan)\n",
    "fit_cfa<- cfa(model_cfa, data=bd_CFA)  #missing = \"FIML\", estimator = \"MLR\"\n",
    "summary(fit_cfa,fit.measures=TRUE,standardized=TRUE,ci=TRUE) "
   ]
  },
  {
   "cell_type": "code",
   "execution_count": 6,
   "metadata": {
    "vscode": {
     "languageId": "r"
    }
   },
   "outputs": [
    {
     "data": {
      "text/html": [
       "<table class=\"dataframe\">\n",
       "<caption>A lavaan.data.frame: 11 × 10</caption>\n",
       "<thead>\n",
       "\t<tr><th></th><th scope=col>name</th><th scope=col>idx</th><th scope=col>nobs</th><th scope=col>type</th><th scope=col>exo</th><th scope=col>user</th><th scope=col>mean</th><th scope=col>var</th><th scope=col>nlev</th><th scope=col>lnam</th></tr>\n",
       "\t<tr><th></th><th scope=col>&lt;chr&gt;</th><th scope=col>&lt;int&gt;</th><th scope=col>&lt;int&gt;</th><th scope=col>&lt;chr&gt;</th><th scope=col>&lt;int&gt;</th><th scope=col>&lt;int&gt;</th><th scope=col>&lt;dbl&gt;</th><th scope=col>&lt;dbl&gt;</th><th scope=col>&lt;int&gt;</th><th scope=col>&lt;chr&gt;</th></tr>\n",
       "</thead>\n",
       "<tbody>\n",
       "\t<tr><th scope=row>1</th><td>FV                    </td><td> 1</td><td>7877</td><td>numeric</td><td>0</td><td>0</td><td>12.0823918</td><td>18.58881764</td><td>0</td><td></td></tr>\n",
       "\t<tr><th scope=row>2</th><td>q13_memoria_imediata  </td><td> 2</td><td>7886</td><td>numeric</td><td>0</td><td>0</td><td> 4.3189196</td><td> 2.64919685</td><td>0</td><td></td></tr>\n",
       "\t<tr><th scope=row>3</th><td>memoria_tardia        </td><td> 3</td><td>7886</td><td>numeric</td><td>0</td><td>0</td><td> 2.8846056</td><td> 3.46696146</td><td>0</td><td></td></tr>\n",
       "\t<tr><th scope=row>4</th><td>Total_depressão       </td><td> 4</td><td>7886</td><td>numeric</td><td>0</td><td>0</td><td> 2.5886381</td><td> 4.26627038</td><td>0</td><td></td></tr>\n",
       "\t<tr><th scope=row>5</th><td>Pontuação_sono        </td><td> 5</td><td>7877</td><td>numeric</td><td>0</td><td>0</td><td> 1.3633363</td><td> 0.59549664</td><td>0</td><td></td></tr>\n",
       "\t<tr><th scope=row>6</th><td>Defict_visão          </td><td> 6</td><td>7886</td><td>numeric</td><td>0</td><td>0</td><td> 1.7292671</td><td> 0.19746166</td><td>0</td><td></td></tr>\n",
       "\t<tr><th scope=row>7</th><td>Defict_audição        </td><td> 7</td><td>7886</td><td>numeric</td><td>0</td><td>0</td><td> 1.0161045</td><td> 0.01584714</td><td>0</td><td></td></tr>\n",
       "\t<tr><th scope=row>8</th><td>Dinamometria          </td><td> 8</td><td>7702</td><td>numeric</td><td>0</td><td>0</td><td>25.9152168</td><td>98.30173180</td><td>0</td><td></td></tr>\n",
       "\t<tr><th scope=row>9</th><td>Pontuação_imc         </td><td> 9</td><td>7820</td><td>numeric</td><td>0</td><td>0</td><td> 0.9686701</td><td> 0.60152502</td><td>0</td><td></td></tr>\n",
       "\t<tr><th scope=row>10</th><td>Caminhada_melhor_tempo</td><td>10</td><td>7886</td><td>numeric</td><td>0</td><td>0</td><td> 4.3472153</td><td> 8.04661274</td><td>0</td><td></td></tr>\n",
       "\t<tr><th scope=row>11</th><td>Total_mobilidade      </td><td>11</td><td>7886</td><td>numeric</td><td>0</td><td>0</td><td>25.7056810</td><td>43.18375212</td><td>0</td><td></td></tr>\n",
       "</tbody>\n",
       "</table>\n"
      ],
      "text/latex": [
       "A lavaan.data.frame: 11 × 10\n",
       "\\begin{tabular}{r|llllllllll}\n",
       "  & name & idx & nobs & type & exo & user & mean & var & nlev & lnam\\\\\n",
       "  & <chr> & <int> & <int> & <chr> & <int> & <int> & <dbl> & <dbl> & <int> & <chr>\\\\\n",
       "\\hline\n",
       "\t1 & FV                     &  1 & 7877 & numeric & 0 & 0 & 12.0823918 & 18.58881764 & 0 & \\\\\n",
       "\t2 & q13\\_memoria\\_imediata   &  2 & 7886 & numeric & 0 & 0 &  4.3189196 &  2.64919685 & 0 & \\\\\n",
       "\t3 & memoria\\_tardia         &  3 & 7886 & numeric & 0 & 0 &  2.8846056 &  3.46696146 & 0 & \\\\\n",
       "\t4 & Total\\_depressão        &  4 & 7886 & numeric & 0 & 0 &  2.5886381 &  4.26627038 & 0 & \\\\\n",
       "\t5 & Pontuação\\_sono         &  5 & 7877 & numeric & 0 & 0 &  1.3633363 &  0.59549664 & 0 & \\\\\n",
       "\t6 & Defict\\_visão           &  6 & 7886 & numeric & 0 & 0 &  1.7292671 &  0.19746166 & 0 & \\\\\n",
       "\t7 & Defict\\_audição         &  7 & 7886 & numeric & 0 & 0 &  1.0161045 &  0.01584714 & 0 & \\\\\n",
       "\t8 & Dinamometria           &  8 & 7702 & numeric & 0 & 0 & 25.9152168 & 98.30173180 & 0 & \\\\\n",
       "\t9 & Pontuação\\_imc          &  9 & 7820 & numeric & 0 & 0 &  0.9686701 &  0.60152502 & 0 & \\\\\n",
       "\t10 & Caminhada\\_melhor\\_tempo & 10 & 7886 & numeric & 0 & 0 &  4.3472153 &  8.04661274 & 0 & \\\\\n",
       "\t11 & Total\\_mobilidade       & 11 & 7886 & numeric & 0 & 0 & 25.7056810 & 43.18375212 & 0 & \\\\\n",
       "\\end{tabular}\n"
      ],
      "text/markdown": [
       "\n",
       "A lavaan.data.frame: 11 × 10\n",
       "\n",
       "| <!--/--> | name &lt;chr&gt; | idx &lt;int&gt; | nobs &lt;int&gt; | type &lt;chr&gt; | exo &lt;int&gt; | user &lt;int&gt; | mean &lt;dbl&gt; | var &lt;dbl&gt; | nlev &lt;int&gt; | lnam &lt;chr&gt; |\n",
       "|---|---|---|---|---|---|---|---|---|---|---|\n",
       "| 1 | FV                     |  1 | 7877 | numeric | 0 | 0 | 12.0823918 | 18.58881764 | 0 | <!----> |\n",
       "| 2 | q13_memoria_imediata   |  2 | 7886 | numeric | 0 | 0 |  4.3189196 |  2.64919685 | 0 | <!----> |\n",
       "| 3 | memoria_tardia         |  3 | 7886 | numeric | 0 | 0 |  2.8846056 |  3.46696146 | 0 | <!----> |\n",
       "| 4 | Total_depressão        |  4 | 7886 | numeric | 0 | 0 |  2.5886381 |  4.26627038 | 0 | <!----> |\n",
       "| 5 | Pontuação_sono         |  5 | 7877 | numeric | 0 | 0 |  1.3633363 |  0.59549664 | 0 | <!----> |\n",
       "| 6 | Defict_visão           |  6 | 7886 | numeric | 0 | 0 |  1.7292671 |  0.19746166 | 0 | <!----> |\n",
       "| 7 | Defict_audição         |  7 | 7886 | numeric | 0 | 0 |  1.0161045 |  0.01584714 | 0 | <!----> |\n",
       "| 8 | Dinamometria           |  8 | 7702 | numeric | 0 | 0 | 25.9152168 | 98.30173180 | 0 | <!----> |\n",
       "| 9 | Pontuação_imc          |  9 | 7820 | numeric | 0 | 0 |  0.9686701 |  0.60152502 | 0 | <!----> |\n",
       "| 10 | Caminhada_melhor_tempo | 10 | 7886 | numeric | 0 | 0 |  4.3472153 |  8.04661274 | 0 | <!----> |\n",
       "| 11 | Total_mobilidade       | 11 | 7886 | numeric | 0 | 0 | 25.7056810 | 43.18375212 | 0 | <!----> |\n",
       "\n"
      ],
      "text/plain": [
       "   name                   idx nobs type    exo user mean       var         nlev\n",
       "1  FV                      1  7877 numeric 0   0    12.0823918 18.58881764 0   \n",
       "2  q13_memoria_imediata    2  7886 numeric 0   0     4.3189196  2.64919685 0   \n",
       "3  memoria_tardia          3  7886 numeric 0   0     2.8846056  3.46696146 0   \n",
       "4  Total_depressão         4  7886 numeric 0   0     2.5886381  4.26627038 0   \n",
       "5  Pontuação_sono          5  7877 numeric 0   0     1.3633363  0.59549664 0   \n",
       "6  Defict_visão            6  7886 numeric 0   0     1.7292671  0.19746166 0   \n",
       "7  Defict_audição          7  7886 numeric 0   0     1.0161045  0.01584714 0   \n",
       "8  Dinamometria            8  7702 numeric 0   0    25.9152168 98.30173180 0   \n",
       "9  Pontuação_imc           9  7820 numeric 0   0     0.9686701  0.60152502 0   \n",
       "10 Caminhada_melhor_tempo 10  7886 numeric 0   0     4.3472153  8.04661274 0   \n",
       "11 Total_mobilidade       11  7886 numeric 0   0    25.7056810 43.18375212 0   \n",
       "   lnam\n",
       "1      \n",
       "2      \n",
       "3      \n",
       "4      \n",
       "5      \n",
       "6      \n",
       "7      \n",
       "8      \n",
       "9      \n",
       "10     \n",
       "11     "
      ]
     },
     "metadata": {},
     "output_type": "display_data"
    }
   ],
   "source": [
    "varTable(fit_cfa) #Dividir as variáveis que possuem alta variância por 10 (FV, Dinamometria e Total_mobilidade)\n",
    "#https://groups.google.com/g/lavaan/c/FzShzsXYNco?pli=1"
   ]
  },
  {
   "cell_type": "code",
   "execution_count": 7,
   "metadata": {
    "vscode": {
     "languageId": "r"
    }
   },
   "outputs": [
    {
     "data": {
      "text/html": [
       "<table class=\"dataframe\">\n",
       "<caption>A data.frame: 6 × 11</caption>\n",
       "<thead>\n",
       "\t<tr><th></th><th scope=col>FV</th><th scope=col>Dinamometria</th><th scope=col>Total_mobilidade</th><th scope=col>q13_memoria_imediata</th><th scope=col>memoria_tardia</th><th scope=col>Total_depressão</th><th scope=col>Pontuação_sono</th><th scope=col>Defict_visão</th><th scope=col>Defict_audição</th><th scope=col>Pontuação_imc</th><th scope=col>Caminhada_melhor_tempo</th></tr>\n",
       "\t<tr><th></th><th scope=col>&lt;dbl&gt;</th><th scope=col>&lt;dbl&gt;</th><th scope=col>&lt;dbl&gt;</th><th scope=col>&lt;dbl&gt;</th><th scope=col>&lt;dbl&gt;</th><th scope=col>&lt;dbl&gt;</th><th scope=col>&lt;dbl&gt;</th><th scope=col>&lt;dbl&gt;</th><th scope=col>&lt;dbl&gt;</th><th scope=col>&lt;dbl&gt;</th><th scope=col>&lt;dbl&gt;</th></tr>\n",
       "</thead>\n",
       "<tbody>\n",
       "\t<tr><th scope=row>1</th><td>1.5</td><td>2.4</td><td>3.0</td><td>6</td><td>4</td><td>1</td><td>2</td><td>2</td><td>1</td><td>2</td><td>3.09</td></tr>\n",
       "\t<tr><th scope=row>2</th><td>0.8</td><td>1.6</td><td>2.0</td><td>3</td><td>2</td><td>2</td><td>2</td><td>2</td><td>1</td><td>2</td><td>5.13</td></tr>\n",
       "\t<tr><th scope=row>3</th><td>0.9</td><td>1.3</td><td>2.5</td><td>4</td><td>2</td><td>7</td><td>2</td><td>2</td><td>1</td><td>1</td><td>4.85</td></tr>\n",
       "\t<tr><th scope=row>4</th><td>1.4</td><td>2.7</td><td>2.1</td><td>3</td><td>3</td><td>0</td><td>1</td><td>2</td><td>1</td><td>0</td><td>3.40</td></tr>\n",
       "\t<tr><th scope=row>5</th><td>0.5</td><td>1.3</td><td>2.7</td><td>2</td><td>2</td><td>4</td><td>2</td><td>1</td><td>1</td><td>2</td><td>4.18</td></tr>\n",
       "\t<tr><th scope=row>6</th><td>1.7</td><td>3.2</td><td>3.1</td><td>6</td><td>5</td><td>1</td><td>1</td><td>2</td><td>1</td><td>0</td><td>3.05</td></tr>\n",
       "</tbody>\n",
       "</table>\n"
      ],
      "text/latex": [
       "A data.frame: 6 × 11\n",
       "\\begin{tabular}{r|lllllllllll}\n",
       "  & FV & Dinamometria & Total\\_mobilidade & q13\\_memoria\\_imediata & memoria\\_tardia & Total\\_depressão & Pontuação\\_sono & Defict\\_visão & Defict\\_audição & Pontuação\\_imc & Caminhada\\_melhor\\_tempo\\\\\n",
       "  & <dbl> & <dbl> & <dbl> & <dbl> & <dbl> & <dbl> & <dbl> & <dbl> & <dbl> & <dbl> & <dbl>\\\\\n",
       "\\hline\n",
       "\t1 & 1.5 & 2.4 & 3.0 & 6 & 4 & 1 & 2 & 2 & 1 & 2 & 3.09\\\\\n",
       "\t2 & 0.8 & 1.6 & 2.0 & 3 & 2 & 2 & 2 & 2 & 1 & 2 & 5.13\\\\\n",
       "\t3 & 0.9 & 1.3 & 2.5 & 4 & 2 & 7 & 2 & 2 & 1 & 1 & 4.85\\\\\n",
       "\t4 & 1.4 & 2.7 & 2.1 & 3 & 3 & 0 & 1 & 2 & 1 & 0 & 3.40\\\\\n",
       "\t5 & 0.5 & 1.3 & 2.7 & 2 & 2 & 4 & 2 & 1 & 1 & 2 & 4.18\\\\\n",
       "\t6 & 1.7 & 3.2 & 3.1 & 6 & 5 & 1 & 1 & 2 & 1 & 0 & 3.05\\\\\n",
       "\\end{tabular}\n"
      ],
      "text/markdown": [
       "\n",
       "A data.frame: 6 × 11\n",
       "\n",
       "| <!--/--> | FV &lt;dbl&gt; | Dinamometria &lt;dbl&gt; | Total_mobilidade &lt;dbl&gt; | q13_memoria_imediata &lt;dbl&gt; | memoria_tardia &lt;dbl&gt; | Total_depressão &lt;dbl&gt; | Pontuação_sono &lt;dbl&gt; | Defict_visão &lt;dbl&gt; | Defict_audição &lt;dbl&gt; | Pontuação_imc &lt;dbl&gt; | Caminhada_melhor_tempo &lt;dbl&gt; |\n",
       "|---|---|---|---|---|---|---|---|---|---|---|---|\n",
       "| 1 | 1.5 | 2.4 | 3.0 | 6 | 4 | 1 | 2 | 2 | 1 | 2 | 3.09 |\n",
       "| 2 | 0.8 | 1.6 | 2.0 | 3 | 2 | 2 | 2 | 2 | 1 | 2 | 5.13 |\n",
       "| 3 | 0.9 | 1.3 | 2.5 | 4 | 2 | 7 | 2 | 2 | 1 | 1 | 4.85 |\n",
       "| 4 | 1.4 | 2.7 | 2.1 | 3 | 3 | 0 | 1 | 2 | 1 | 0 | 3.40 |\n",
       "| 5 | 0.5 | 1.3 | 2.7 | 2 | 2 | 4 | 2 | 1 | 1 | 2 | 4.18 |\n",
       "| 6 | 1.7 | 3.2 | 3.1 | 6 | 5 | 1 | 1 | 2 | 1 | 0 | 3.05 |\n",
       "\n"
      ],
      "text/plain": [
       "  FV  Dinamometria Total_mobilidade q13_memoria_imediata memoria_tardia\n",
       "1 1.5 2.4          3.0              6                    4             \n",
       "2 0.8 1.6          2.0              3                    2             \n",
       "3 0.9 1.3          2.5              4                    2             \n",
       "4 1.4 2.7          2.1              3                    3             \n",
       "5 0.5 1.3          2.7              2                    2             \n",
       "6 1.7 3.2          3.1              6                    5             \n",
       "  Total_depressão Pontuação_sono Defict_visão Defict_audição Pontuação_imc\n",
       "1 1               2              2            1              2            \n",
       "2 2               2              2            1              2            \n",
       "3 7               2              2            1              1            \n",
       "4 0               1              2            1              0            \n",
       "5 4               2              1            1              2            \n",
       "6 1               1              2            1              0            \n",
       "  Caminhada_melhor_tempo\n",
       "1 3.09                  \n",
       "2 5.13                  \n",
       "3 4.85                  \n",
       "4 3.40                  \n",
       "5 4.18                  \n",
       "6 3.05                  "
      ]
     },
     "metadata": {},
     "output_type": "display_data"
    }
   ],
   "source": [
    "x<- bd_CFA[,c(\"FV\",\"Dinamometria\",\"Total_mobilidade\")]/10\n",
    "bd_CFA2<- bd_CFA[,-c(1,8,11)]\n",
    "bd_CFA2<- cbind(x,bd_CFA2)\n",
    "head(bd_CFA2)"
   ]
  },
  {
   "cell_type": "code",
   "execution_count": 8,
   "metadata": {
    "vscode": {
     "languageId": "r"
    }
   },
   "outputs": [
    {
     "name": "stderr",
     "output_type": "stream",
     "text": [
      "Warning message in lav_object_post_check(object):\n",
      "\"lavaan WARNING: some estimated lv variances are negative\"\n"
     ]
    },
    {
     "name": "stdout",
     "output_type": "stream",
     "text": [
      "lavaan 0.6-10 ended normally after 111 iterations\n",
      "\n",
      "  Estimator                                         ML\n",
      "  Optimization method                           NLMINB\n",
      "  Number of model parameters                        32\n",
      "                                                      \n",
      "                                                  Used       Total\n",
      "  Number of observations                          7625        7886\n",
      "                                                                  \n",
      "Model Test User Model:\n",
      "                                                      \n",
      "  Test statistic                               565.701\n",
      "  Degrees of freedom                                34\n",
      "  P-value (Chi-square)                           0.000\n",
      "\n",
      "Model Test Baseline Model:\n",
      "\n",
      "  Test statistic                             10857.950\n",
      "  Degrees of freedom                                55\n",
      "  P-value                                        0.000\n",
      "\n",
      "User Model versus Baseline Model:\n",
      "\n",
      "  Comparative Fit Index (CFI)                    0.951\n",
      "  Tucker-Lewis Index (TLI)                       0.920\n",
      "\n",
      "Loglikelihood and Information Criteria:\n",
      "\n",
      "  Loglikelihood user model (H0)             -99779.443\n",
      "  Loglikelihood unrestricted model (H1)     -99496.592\n",
      "                                                      \n",
      "  Akaike (AIC)                              199622.885\n",
      "  Bayesian (BIC)                            199844.939\n",
      "  Sample-size adjusted Bayesian (BIC)       199743.250\n",
      "\n",
      "Root Mean Square Error of Approximation:\n",
      "\n",
      "  RMSEA                                          0.045\n",
      "  90 Percent confidence interval - lower         0.042\n",
      "  90 Percent confidence interval - upper         0.049\n",
      "  P-value RMSEA <= 0.05                          0.990\n",
      "\n",
      "Standardized Root Mean Square Residual:\n",
      "\n",
      "  SRMR                                           0.037\n",
      "\n",
      "Parameter Estimates:\n",
      "\n",
      "  Standard errors                             Standard\n",
      "  Information                                 Expected\n",
      "  Information saturated (h1) model          Structured\n"
     ]
    },
    {
     "name": "stderr",
     "output_type": "stream",
     "text": [
      "Warning message in abbreviate(NAMES, minlength = W, strict = TRUE):\n",
      "\"abbreaviate usado com caracteres não-ASCII\"\n"
     ]
    },
    {
     "name": "stdout",
     "output_type": "stream",
     "text": [
      "\n",
      "Latent Variables:\n",
      "                   Estimate  Std.Err  z-value  P(>|z|) ci.lower ci.upper\n",
      "  Cognitive =~                                                          \n",
      "    FV                1.000                               1.000    1.000\n",
      "    q13_memori_mdt    6.591    0.174   37.885    0.000    6.250    6.932\n",
      "    memoria_tardia    7.226    0.188   38.381    0.000    6.857    7.595\n",
      "  Psychological =~                                                      \n",
      "    Total_depressã    1.000                               1.000    1.000\n",
      "    Pontuação_sono   -0.297    0.018  -16.435    0.000   -0.332   -0.261\n",
      "  Sensory =~                                                            \n",
      "    Defict_visão      1.000                               1.000    1.000\n",
      "    Defict_audição   -0.089    0.016   -5.592    0.000   -0.120   -0.058\n",
      "  Vitality =~                                                           \n",
      "    Dinamometria      1.000                               1.000    1.000\n",
      "    Pontuação_imc     0.230    0.023   10.011    0.000    0.185    0.275\n",
      "  Locomotor =~                                                          \n",
      "    Cmnhd_mlhr_tmp    1.000                               1.000    1.000\n",
      "    Total_mobilidd   -0.522    0.026  -19.723    0.000   -0.574   -0.470\n",
      "   Std.lv  Std.all\n",
      "                  \n",
      "    0.207    0.482\n",
      "    1.367    0.844\n",
      "    1.498    0.805\n",
      "                  \n",
      "    1.033    0.501\n",
      "   -0.306   -0.398\n",
      "                  \n",
      "       NA       NA\n",
      "       NA       NA\n",
      "                  \n",
      "       NA       NA\n",
      "       NA       NA\n",
      "                  \n",
      "    0.935    0.339\n",
      "   -0.488   -0.750\n",
      "\n",
      "Covariances:\n",
      "                   Estimate  Std.Err  z-value  P(>|z|) ci.lower ci.upper\n",
      "  Cognitive ~~                                                          \n",
      "    Psychological    -0.025    0.005   -5.333    0.000   -0.034   -0.016\n",
      "    Sensory           0.020    0.001   15.851    0.000    0.017    0.022\n",
      "    Vitality          0.039    0.003   14.441    0.000    0.034    0.044\n",
      "    Locomotor        -0.070    0.005  -14.358    0.000   -0.080   -0.061\n",
      "  Psychological ~~                                                      \n",
      "    Sensory           0.018    0.008    2.124    0.034    0.001    0.035\n",
      "    Vitality         -0.303    0.021  -14.620    0.000   -0.344   -0.262\n",
      "    Locomotor         0.667    0.043   15.623    0.000    0.584    0.751\n",
      "  Sensory ~~                                                            \n",
      "    Vitality         -0.018    0.005   -3.948    0.000   -0.027   -0.009\n",
      "    Locomotor        -0.023    0.006   -3.870    0.000   -0.035   -0.011\n",
      "  Vitality ~~                                                           \n",
      "    Locomotor        -0.471    0.026  -17.919    0.000   -0.523   -0.420\n",
      "   Std.lv  Std.all\n",
      "                  \n",
      "   -0.117   -0.117\n",
      "    0.635    0.635\n",
      "    1.129    1.129\n",
      "   -0.362   -0.362\n",
      "                  \n",
      "    0.115    0.115\n",
      "   -1.764   -1.764\n",
      "    0.691    0.691\n",
      "                  \n",
      "   -0.716   -0.716\n",
      "   -0.163   -0.163\n",
      "                  \n",
      "   -3.028   -3.028\n"
     ]
    },
    {
     "name": "stderr",
     "output_type": "stream",
     "text": [
      "Warning message in abbreviate(NAMES, minlength = W, strict = TRUE):\n",
      "\"abbreaviate usado com caracteres não-ASCII\"\n"
     ]
    },
    {
     "name": "stdout",
     "output_type": "stream",
     "text": [
      "\n",
      "Variances:\n",
      "                   Estimate  Std.Err  z-value  P(>|z|) ci.lower ci.upper\n",
      "   .FV                0.142    0.002   57.688    0.000    0.137    0.147\n",
      "   .q13_memori_mdt    0.754    0.034   21.908    0.000    0.686    0.821\n",
      "   .memoria_tardia    1.216    0.043   27.964    0.000    1.131    1.301\n",
      "   .Total_depressã    3.187    0.089   35.610    0.000    3.011    3.362\n",
      "   .Pontuação_sono    0.499    0.010   48.332    0.000    0.479    0.519\n",
      "   .Defict_visão      0.219    0.010   22.659    0.000    0.200    0.238\n",
      "   .Defict_audição    0.016    0.000   59.500    0.000    0.015    0.016\n",
      "   .Dinamometria      1.012    0.043   23.615    0.000    0.928    1.096\n",
      "   .Pontuação_imc     0.603    0.010   60.376    0.000    0.583    0.623\n",
      "   .Cmnhd_mlhr_tmp    6.745    0.117   57.731    0.000    6.516    6.974\n",
      "   .Total_mobilidd    0.185    0.012   15.853    0.000    0.162    0.208\n",
      "    Cognitive         0.043    0.002   20.349    0.000    0.039    0.047\n",
      "    Psychological     1.067    0.086   12.377    0.000    0.898    1.235\n",
      "    Sensory          -0.023    0.009   -2.581    0.010   -0.040   -0.006\n",
      "    Vitality         -0.028    0.039   -0.702    0.483   -0.105    0.050\n",
      "    Locomotor         0.875    0.071   12.356    0.000    0.736    1.014\n",
      "   Std.lv  Std.all\n",
      "    0.142    0.768\n",
      "    0.754    0.288\n",
      "    1.216    0.351\n",
      "    3.187    0.749\n",
      "    0.499    0.842\n",
      "    0.219    1.116\n",
      "    0.016    1.012\n",
      "    1.012    1.028\n",
      "    0.603    1.002\n",
      "    6.745    0.885\n",
      "    0.185    0.437\n",
      "    1.000    1.000\n",
      "    1.000    1.000\n",
      "       NA       NA\n",
      "       NA       NA\n",
      "    1.000    1.000\n",
      "\n"
     ]
    }
   ],
   "source": [
    "fit_cfa2<- cfa(model_cfa, data=bd_CFA2) \n",
    "summary(fit_cfa2,fit.measures=TRUE,standardized=TRUE,ci=TRUE) #Resolveu o warning 1: some observed variances are (at least) a factor 1000 times larger than others; use varTable(fit) to investigate\n",
    "#Warning 2: https://www.researchgate.net/post/SEM-in-R-lavaan-WARNING-some-estimated-lv-variances-are-negative\n",
    "#Mudar o estimator para WLSMV não resolveu\n",
    "#Olhar para a multicolinearidade"
   ]
  },
  {
   "cell_type": "code",
   "execution_count": 9,
   "metadata": {
    "vscode": {
     "languageId": "r"
    }
   },
   "outputs": [
    {
     "data": {
      "text/html": [
       "268"
      ],
      "text/latex": [
       "268"
      ],
      "text/markdown": [
       "268"
      ],
      "text/plain": [
       "[1] 268"
      ]
     },
     "metadata": {},
     "output_type": "display_data"
    },
    {
     "data": {
      "text/html": [
       "0"
      ],
      "text/latex": [
       "0"
      ],
      "text/markdown": [
       "0"
      ],
      "text/plain": [
       "[1] 0"
      ]
     },
     "metadata": {},
     "output_type": "display_data"
    }
   ],
   "source": [
    "#Verificar se há dados faltantes\n",
    "sum(is.na(bd_CFA2)) #268 NA's\n",
    "bd_CFA3<- na.omit(bd_CFA2)\n",
    "sum(is.na(bd_CFA3)) #Nenhum NA"
   ]
  },
  {
   "cell_type": "code",
   "execution_count": 10,
   "metadata": {
    "vscode": {
     "languageId": "r"
    }
   },
   "outputs": [
    {
     "name": "stderr",
     "output_type": "stream",
     "text": [
      "Loading required package: corrplot\n",
      "\n",
      "corrplot 0.92 loaded\n",
      "\n"
     ]
    },
    {
     "data": {
      "image/png": "[encoded data removed]",
      "text/plain": [
       "Plot with title \"\""
      ]
     },
     "metadata": {
      "image/png": {
       "height": 420,
       "width": 420
      }
     },
     "output_type": "display_data"
    }
   ],
   "source": [
    "#Matriz de correlação\n",
    "#https://rstudio-pubs-static.s3.amazonaws.com/437792_df39a5ff0a55491fb71f0f4a0f5cd0bf.html\n",
    "#install.packages(\"corrplot\")\n",
    "require(corrplot)\n",
    "corrplot(cor(bd_CFA3), method = \"number\") #memoria_tardia e q13_memoria_imediata estão correlacionadas "
   ]
  },
  {
   "cell_type": "code",
   "execution_count": 11,
   "metadata": {
    "vscode": {
     "languageId": "r"
    }
   },
   "outputs": [],
   "source": [
    "#Retirando a variável q13_memoria_imediata (possui maior correlação com outras variáveis) do fator 1\n",
    "model_cfa2<-'\n",
    "Cognitive=~FV+memoria_tardia\n",
    "Psychological=~Total_depressão+Pontuação_sono\n",
    "Sensory=~Defict_visão+Defict_audição\n",
    "Vitality=~Dinamometria+Pontuação_imc\n",
    "Locomotor=~Caminhada_melhor_tempo+Total_mobilidade'"
   ]
  },
  {
   "cell_type": "code",
   "execution_count": 12,
   "metadata": {
    "vscode": {
     "languageId": "r"
    }
   },
   "outputs": [
    {
     "name": "stderr",
     "output_type": "stream",
     "text": [
      "Warning message in lav_object_post_check(object):\n",
      "\"lavaan WARNING: some estimated lv variances are negative\"\n"
     ]
    },
    {
     "name": "stdout",
     "output_type": "stream",
     "text": [
      "lavaan 0.6-10 ended normally after 188 iterations\n",
      "\n",
      "  Estimator                                         ML\n",
      "  Optimization method                           NLMINB\n",
      "  Number of model parameters                        30\n",
      "                                                      \n",
      "  Number of observations                          7625\n",
      "                                                      \n",
      "Model Test User Model:\n",
      "                                                      \n",
      "  Test statistic                               350.909\n",
      "  Degrees of freedom                                25\n",
      "  P-value (Chi-square)                           0.000\n",
      "\n",
      "Model Test Baseline Model:\n",
      "\n",
      "  Test statistic                              5540.480\n",
      "  Degrees of freedom                                45\n",
      "  P-value                                        0.000\n",
      "\n",
      "User Model versus Baseline Model:\n",
      "\n",
      "  Comparative Fit Index (CFI)                    0.941\n",
      "  Tucker-Lewis Index (TLI)                       0.893\n",
      "\n",
      "Loglikelihood and Information Criteria:\n",
      "\n",
      "  Loglikelihood user model (H0)             -87837.679\n",
      "  Loglikelihood unrestricted model (H1)     -87662.224\n",
      "                                                      \n",
      "  Akaike (AIC)                              175735.357\n",
      "  Bayesian (BIC)                            175943.533\n",
      "  Sample-size adjusted Bayesian (BIC)       175848.199\n",
      "\n",
      "Root Mean Square Error of Approximation:\n",
      "\n",
      "  RMSEA                                          0.041\n",
      "  90 Percent confidence interval - lower         0.038\n",
      "  90 Percent confidence interval - upper         0.045\n",
      "  P-value RMSEA <= 0.05                          1.000\n",
      "\n",
      "Standardized Root Mean Square Residual:\n",
      "\n",
      "  SRMR                                           0.029\n",
      "\n",
      "Parameter Estimates:\n",
      "\n",
      "  Standard errors                             Standard\n",
      "  Information                                 Expected\n",
      "  Information saturated (h1) model          Structured\n"
     ]
    },
    {
     "name": "stderr",
     "output_type": "stream",
     "text": [
      "Warning message in abbreviate(NAMES, minlength = W, strict = TRUE):\n",
      "\"abbreaviate usado com caracteres não-ASCII\"\n"
     ]
    },
    {
     "name": "stdout",
     "output_type": "stream",
     "text": [
      "\n",
      "Latent Variables:\n",
      "                   Estimate  Std.Err  z-value  P(>|z|) ci.lower ci.upper\n",
      "  Cognitive =~                                                          \n",
      "    FV                1.000                               1.000    1.000\n",
      "    memoria_tardia    4.149    0.190   21.787    0.000    3.775    4.522\n",
      "  Psychological =~                                                      \n",
      "    Total_depressã    1.000                               1.000    1.000\n",
      "    Pontuação_sono   -0.292    0.018  -16.375    0.000   -0.327   -0.257\n",
      "  Sensory =~                                                            \n",
      "    Defict_visão      1.000                               1.000    1.000\n",
      "    Defict_audição   -0.061    0.017   -3.648    0.000   -0.094   -0.028\n",
      "  Vitality =~                                                           \n",
      "    Dinamometria      1.000                               1.000    1.000\n",
      "    Pontuação_imc     0.216    0.022    9.658    0.000    0.172    0.259\n",
      "  Locomotor =~                                                          \n",
      "    Cmnhd_mlhr_tmp    1.000                               1.000    1.000\n",
      "    Total_mobilidd   -0.530    0.028  -19.256    0.000   -0.584   -0.476\n",
      "   Std.lv  Std.all\n",
      "                  \n",
      "    0.273    0.635\n",
      "    1.133    0.609\n",
      "                  \n",
      "    1.041    0.505\n",
      "   -0.304   -0.394\n",
      "                  \n",
      "       NA       NA\n",
      "       NA       NA\n",
      "                  \n",
      "       NA       NA\n",
      "       NA       NA\n",
      "                  \n",
      "    0.928    0.336\n",
      "   -0.492   -0.756\n",
      "\n",
      "Covariances:\n",
      "                   Estimate  Std.Err  z-value  P(>|z|) ci.lower ci.upper\n",
      "  Cognitive ~~                                                          \n",
      "    Psychological    -0.062    0.008   -8.032    0.000   -0.077   -0.047\n",
      "    Sensory           0.028    0.002   14.315    0.000    0.024    0.032\n",
      "    Vitality          0.074    0.004   16.821    0.000    0.066    0.083\n",
      "    Locomotor        -0.111    0.008  -14.306    0.000   -0.127   -0.096\n",
      "  Psychological ~~                                                      \n",
      "    Sensory           0.018    0.009    2.029    0.042    0.001    0.035\n",
      "    Vitality         -0.308    0.021  -14.718    0.000   -0.348   -0.267\n",
      "    Locomotor         0.663    0.043   15.437    0.000    0.579    0.747\n",
      "  Sensory ~~                                                            \n",
      "    Vitality         -0.020    0.005   -4.217    0.000   -0.029   -0.011\n",
      "    Locomotor        -0.022    0.006   -3.593    0.000   -0.033   -0.010\n",
      "  Vitality ~~                                                           \n",
      "    Locomotor        -0.466    0.027  -17.589    0.000   -0.518   -0.414\n",
      "   Std.lv  Std.all\n",
      "                  \n",
      "   -0.217   -0.217\n",
      "    0.564    0.564\n",
      "    1.585    1.585\n",
      "   -0.439   -0.439\n",
      "                  \n",
      "    0.093    0.093\n",
      "   -1.720   -1.720\n",
      "    0.686    0.686\n",
      "                  \n",
      "   -0.634   -0.634\n",
      "   -0.128   -0.128\n",
      "                  \n",
      "   -2.924   -2.924\n"
     ]
    },
    {
     "name": "stderr",
     "output_type": "stream",
     "text": [
      "Warning message in abbreviate(NAMES, minlength = W, strict = TRUE):\n",
      "\"abbreaviate usado com caracteres não-ASCII\"\n"
     ]
    },
    {
     "name": "stdout",
     "output_type": "stream",
     "text": [
      "\n",
      "Variances:\n",
      "                   Estimate  Std.Err  z-value  P(>|z|) ci.lower ci.upper\n",
      "   .FV                0.111    0.004   29.082    0.000    0.103    0.118\n",
      "   .memoria_tardia    2.176    0.068   32.185    0.000    2.044    2.309\n",
      "   .Total_depressã    3.169    0.090   35.036    0.000    2.991    3.346\n",
      "   .Pontuação_sono    0.501    0.010   48.667    0.000    0.481    0.521\n",
      "   .Defict_visão      0.230    0.016   14.702    0.000    0.199    0.260\n",
      "   .Defict_audição    0.016    0.000   60.285    0.000    0.015    0.016\n",
      "   .Dinamometria      1.014    0.045   22.355    0.000    0.925    1.103\n",
      "   .Pontuação_imc     0.603    0.010   60.531    0.000    0.583    0.622\n",
      "   .Cmnhd_mlhr_tmp    6.758    0.117   57.698    0.000    6.528    6.988\n",
      "   .Total_mobilidd    0.182    0.012   15.037    0.000    0.158    0.205\n",
      "    Cognitive         0.075    0.004   18.081    0.000    0.067    0.083\n",
      "    Psychological     1.085    0.088   12.394    0.000    0.913    1.256\n",
      "    Sensory          -0.033    0.015   -2.212    0.027   -0.063   -0.004\n",
      "    Vitality         -0.029    0.042   -0.701    0.484   -0.112    0.053\n",
      "    Locomotor         0.862    0.071   12.201    0.000    0.723    1.000\n",
      "   Std.lv  Std.all\n",
      "    0.111    0.597\n",
      "    2.176    0.629\n",
      "    3.169    0.745\n",
      "    0.501    0.844\n",
      "    0.230    1.170\n",
      "    0.016    1.008\n",
      "    1.014    1.030\n",
      "    0.603    1.002\n",
      "    6.758    0.887\n",
      "    0.182    0.429\n",
      "    1.000    1.000\n",
      "    1.000    1.000\n",
      "       NA       NA\n",
      "       NA       NA\n",
      "    1.000    1.000\n",
      "\n"
     ]
    }
   ],
   "source": [
    "fit_cfa3<- cfa(model_cfa2, data=bd_CFA3)  \n",
    "summary(fit_cfa3,fit.measures=TRUE,standardized=TRUE,ci=TRUE) #Warning permanece\n",
    "#https://groups.google.com/g/lavaan/c/AGr50-kUNFw"
   ]
  },
  {
   "cell_type": "code",
   "execution_count": 42,
   "metadata": {
    "vscode": {
     "languageId": "r"
    }
   },
   "outputs": [],
   "source": [
    "#Plot\n",
    "#https://cran.r-project.org/web/packages/lavaanPlot/vignettes/Intro_to_lavaanPlot.html\n",
    "#install.packages(\"lavaanPlot\")\n",
    "#require(lavaanPlot)\n",
    "grafico<- lavaanPlot(model=fit_cfa3,node_options=list(shape=\"box\",fontname=\"Helvetica\"),edge_options=list(color=\"grey\"),coefs=T, stand=F,covs=F)"
   ]
  },
  {
   "cell_type": "code",
   "execution_count": 23,
   "metadata": {
    "vscode": {
     "languageId": "r"
    }
   },
   "outputs": [
    {
     "name": "stderr",
     "output_type": "stream",
     "text": [
      "Installing package into 'C:/Users/usernote/Documents/R/win-library/3.6'\n",
      "(as 'lib' is unspecified)\n",
      "\n",
      "also installing the dependency 'V8'\n",
      "\n",
      "\n"
     ]
    },
    {
     "name": "stdout",
     "output_type": "stream",
     "text": [
      "\n",
      "  There is a binary version available but the source version is later:\n",
      "   binary source needs_compilation\n",
      "V8  3.4.2  4.1.0              TRUE\n",
      "\n",
      "package 'DiagrammeRsvg' successfully unpacked and MD5 sums checked\n",
      "\n",
      "The downloaded binary packages are in\n",
      "\tC:\\Users\\usernote\\AppData\\Local\\Temp\\Rtmp8gLhU1\\downloaded_packages\n"
     ]
    },
    {
     "name": "stderr",
     "output_type": "stream",
     "text": [
      "installing the source package 'V8'\n",
      "\n",
      "\n",
      "Loading required package: DiagrammeRsvg\n",
      "\n",
      "Warning message:\n",
      "\"package 'DiagrammeRsvg' was built under R version 3.6.3\"\n"
     ]
    }
   ],
   "source": [
    "install.packages(\"DiagrammeRsvg\")\n",
    "require(DiagrammeRsvg)\n",
    "\n",
    "install.packages(\"rsvg\")\n",
    "require(rsvg)\n",
    "\n",
    "install.packages(\"png\")\n",
    "require(png)"
   ]
  },
  {
   "cell_type": "code",
   "execution_count": 43,
   "metadata": {
    "vscode": {
     "languageId": "r"
    }
   },
   "outputs": [],
   "source": [
    "save_png(grafico,\"Grafico_CFA.png\")"
   ]
  }
 ],
 "metadata": {
  "kernelspec": {
   "display_name": "R",
   "language": "R",
   "name": "ir"
  },
  "language_info": {
   "codemirror_mode": "r",
   "file_extension": ".r",
   "mimetype": "text/x-r-source",
   "name": "R",
   "pygments_lexer": "r",
   "version": "3.6.0"
  },
  "orig_nbformat": 4
 },
 "nbformat": 4,
 "nbformat_minor": 2
}
